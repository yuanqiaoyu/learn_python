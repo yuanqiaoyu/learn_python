{
 "cells": [
  {
   "cell_type": "code",
   "execution_count": null,
   "metadata": {},
   "outputs": [],
   "source": [
    "#创建一个简单的关于黄金的类\n",
    "'''class Gold():\n",
    "    def industry(self,electricity,hot):\n",
    "        self electricity=#黄金的导电性次于银和铜\n",
    "        self hot=#导热率是银的74%\n",
    "    def money(self):\n",
    "        #货币属性number 1\n",
    "    def art(self):\n",
    "        #观赏收藏优于白银\n",
    "    def stability(self):\n",
    "        #稳定性优于几乎所有主要金属\n",
    "#商品实物黄金交易额不到总交易额的3%，目前市场上的黄金品种几乎都是黄金金融衍生品，作为抗通胀和避险的工具来使用。\n",
    "class Wise decision():\n",
    "    rule1=#切勿情绪化\n",
    "    rule2=#了解后决定'''\n",
    "\n",
    "\n",
    "\n"
   ]
  },
  {
   "cell_type": "code",
   "execution_count": null,
   "metadata": {},
   "outputs": [],
   "source": []
  },
  {
   "cell_type": "code",
   "execution_count": null,
   "metadata": {},
   "outputs": [],
   "source": []
  },
  {
   "cell_type": "code",
   "execution_count": null,
   "metadata": {},
   "outputs": [],
   "source": []
  }
 ],
 "metadata": {
  "kernelspec": {
   "display_name": "Python 3",
   "language": "python",
   "name": "python3"
  },
  "language_info": {
   "codemirror_mode": {
    "name": "ipython",
    "version": 3
   },
   "file_extension": ".py",
   "mimetype": "text/x-python",
   "name": "python",
   "nbconvert_exporter": "python",
   "pygments_lexer": "ipython3",
   "version": "3.7.6"
  }
 },
 "nbformat": 4,
 "nbformat_minor": 4
}
