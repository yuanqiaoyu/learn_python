{
 "cells": [
  {
   "cell_type": "code",
   "execution_count": null,
   "metadata": {},
   "outputs": [],
   "source": [
    "#创建一个简单的关于黄金的类\n",
    "'''class Gold():\n",
    "    def industry(self,electricity,hot):\n",
    "        self electricity=#黄金的导电性次于银和铜\n",
    "        self hot=#导热率是银的74%\n",
    "    def money(self):\n",
    "        #货币属性number 1\n",
    "    def art(self):\n",
    "        #观赏收藏优于白银\n",
    "    def stability(self):\n",
    "        #稳定性优于几乎所有主要金属\n",
    "#商品实物黄金交易额不到总交易额的3%，目前市场上的黄金品种几乎都是黄金金融衍生品，作为抗通胀和避险的工具来使用。\n",
    "class Wise decision():\n",
    "    rule1=#切勿情绪化\n",
    "    rule2=#了解后决定'''\n",
    "\n",
    "\n",
    "\n"
   ]
  },
  {
   "cell_type": "code",
   "execution_count": null,
   "metadata": {},
   "outputs": [],
   "source": [
    "‘’‘编程语言又很多，比如很难学的C，非常流行的java，适合初学者的Basic，以及适合网页编程的JavaScript。虽然编程语言又很多种，它们之间也有很\n",
    "大的差距，但是最终都得要通过”翻译“变成CPU能识别和执行的机器指令。不同的编程语言，让计算机干同一个事情，其实代码量相差是很大的。python是\n",
    "一种高级程序编程语言，通常，越高级的编程语言越简单，代码越少，但是运行速度也越慢。python应用面是很广的，但是并非无所不能，比如写操作系统\n",
    "只能用C，写手机应用只能用Swift和Objective-C（针对iPhone），Java（针对Android）,写3D游戏最好用C或C++."
   ]
  },
  {
   "cell_type": "code",
   "execution_count": null,
   "metadata": {},
   "outputs": [],
   "source": []
  },
  {
   "cell_type": "code",
   "execution_count": null,
   "metadata": {},
   "outputs": [],
   "source": []
  }
 ],
 "metadata": {
  "kernelspec": {
   "display_name": "Python 3",
   "language": "python",
   "name": "python3"
  },
  "language_info": {
   "codemirror_mode": {
    "name": "ipython",
    "version": 3
   },
   "file_extension": ".py",
   "mimetype": "text/x-python",
   "name": "python",
   "nbconvert_exporter": "python",
   "pygments_lexer": "ipython3",
   "version": "3.7.6"
  }
 },
 "nbformat": 4,
 "nbformat_minor": 4
}
